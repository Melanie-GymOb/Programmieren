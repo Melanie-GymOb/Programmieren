{
 "cells": [
  {
   "cell_type": "markdown",
   "metadata": {},
   "source": [
    "# Einführung in Jupyter Notebooks"
   ]
  },
  {
   "cell_type": "markdown",
   "metadata": {},
   "source": [
    "Jupyter Notebooks sind Dokumente, die neben Text auch Programmcode enthalten. Die Notebooks bestehen aus einer Sequenz von einzelnen Zellen. Die aktuelle Zelle erkennt man jeweils daran, dass diese umrahmt ist. Jede Zelle ist entweder eine Textzelle oder eine Code Zelle. Codezellen erkennt man dadurch, dass diese mit ```In [..]``` gekennzeichnet sind. \n",
    "Codezellen enthalten ausführbaren Java Code und können durch Drücken von ```Shift+Enter``` ausgeführt werden. Die folgenden zwei Zellen sind Codezellen und können ausgeführt werden. "
   ]
  },
  {
   "cell_type": "code",
   "execution_count": 1,
   "metadata": {
    "scrolled": true
   },
   "outputs": [
    {
     "data": {
      "text/plain": [
       "8"
      ]
     },
     "execution_count": 1,
     "metadata": {},
     "output_type": "execute_result"
    }
   ],
   "source": [
    "5 + 3;"
   ]
  }
 ],
 "metadata": {
  "kernelspec": {
   "display_name": "Java",
   "language": "java",
   "name": "java"
  },
  "language_info": {
   "codemirror_mode": "java",
   "file_extension": ".jshell",
   "mimetype": "text/x-java-source",
   "name": "Java",
   "pygments_lexer": "java",
   "version": "11.0.6+10"
  }
 },
 "nbformat": 4,
 "nbformat_minor": 4
}
